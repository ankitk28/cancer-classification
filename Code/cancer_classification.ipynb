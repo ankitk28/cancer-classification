{
 "cells": [
  {
   "cell_type": "code",
   "execution_count": 57,
   "metadata": {},
   "outputs": [],
   "source": [
    "import numpy as np\n",
    "import pandas as pd\n",
    "import os\n",
    "import argparse\n",
    "from tqdm import tqdm\n",
    "import logging\n",
    "\n",
    "from sklearn.preprocessing import StandardScaler\n",
    "from sklearn.model_selection import train_test_split\n",
    "\n",
    "logging.basicConfig(level = logging.INFO)"
   ]
  },
  {
   "cell_type": "code",
   "execution_count": 73,
   "metadata": {},
   "outputs": [],
   "source": [
    "class Dataset:\n",
    "    def __init__(self, data_dir, dataset_name):\n",
    "        \n",
    "        self.path = os.path.join(data_dir, dataset_name)\n",
    "        self.dataset_name = dataset_name\n",
    "        \n",
    "        if dataset_name is 'colon':\n",
    "            self.gene_expression_values_file = \"gene_values.txt\"\n",
    "            self.labels_file = \"labels_for_each_tissue.txt\"\n",
    "        \n",
    "        self.read_data()\n",
    "        self.split_data(split_perc = 0.2)\n",
    "        self.transform_data()\n",
    "            \n",
    "    def read_data(self):\n",
    "        \n",
    "        logging.info(\"Reading Dataset %s\", self.dataset_name)\n",
    "        \n",
    "        if self.dataset_name is 'colon':\n",
    "            with open(os.path.join(self.path, self.gene_expression_values_file), 'r') as f:\n",
    "                gene_expression_values = [line.strip() for line in tqdm(f.readlines())]\n",
    "                expressions = []\n",
    "                for gene in gene_expression_values:\n",
    "                    if gene != '':\n",
    "                        expression_values = np.array(gene.split(\" \"))\n",
    "                        expressions.append(expression_values)\n",
    "\n",
    "            with open(os.path.join(self.path, self.labels_file), 'r') as f:\n",
    "                labels = [int(line.strip()) for line in tqdm(f.readlines())]\n",
    "                labels = np.array(labels)\n",
    "                labels[labels>0] = 1\n",
    "                labels[labels<=0] = 0\n",
    "                \n",
    "            self.features = np.array(expressions, dtype=np.float64).T\n",
    "            self.target = labels\n",
    "            \n",
    "        logging.info(\"Reading data completed. The dataset size is %s\", self.features.shape)\n",
    "        \n",
    "    def split_data(self, split_perc = 0.2):\n",
    "        \n",
    "        logging.info(\"Splitting the dataset into train and test sets with a split percentage of %s\", split_perc)\n",
    "        \n",
    "        self.X_train, self.X_test, self.Y_train, self.Y_test = \\\n",
    "        train_test_split(self.features, self.target, test_size = split_perc, random_state = 1405)\n",
    "        \n",
    "        logging.info(\"Splitting is completed. The dimensions of the train dataset are %s\", self.X_train.shape)\n",
    "        \n",
    "    def transform_data(self):\n",
    "        \n",
    "        logging.info(\"Standardizing the data to have to zero mean and one variance\")\n",
    "        \n",
    "        standard_scaler = StandardScaler()\n",
    "        standard_scaler.fit(self.X_train)\n",
    "        self.X_train = standard_scaler.transform(self.X_train)\n",
    "        self.X_test = standard_scaler.transform(self.X_test)\n",
    "        \n",
    "        logging.info(\"Standardizing is completed.\")"
   ]
  },
  {
   "cell_type": "code",
   "execution_count": 74,
   "metadata": {},
   "outputs": [
    {
     "name": "stderr",
     "output_type": "stream",
     "text": [
      "INFO:root:Reading Dataset colon\n",
      "100%|██████████| 3998/3998 [00:00<00:00, 189956.92it/s]\n",
      "100%|██████████| 62/62 [00:00<00:00, 274890.96it/s]\n",
      "INFO:root:Reading data completed. The dataset size is (62, 2000)\n",
      "INFO:root:Splitting the dataset into train and test sets with a split percentage of 0.2\n",
      "INFO:root:Splitting is completed. The dimensions of the train dataset are (49, 2000)\n",
      "INFO:root:Standardizing the data to have to zero mean and one variance\n",
      "INFO:root:Standardizing is completed.\n"
     ]
    }
   ],
   "source": [
    "colon_data = Dataset(\"/home/avinash/UIUC/CS466/cancer-classification/Data\", 'colon')"
   ]
  }
 ],
 "metadata": {
  "kernelspec": {
   "display_name": "Python 3",
   "language": "python",
   "name": "python3"
  },
  "language_info": {
   "codemirror_mode": {
    "name": "ipython",
    "version": 3
   },
   "file_extension": ".py",
   "mimetype": "text/x-python",
   "name": "python",
   "nbconvert_exporter": "python",
   "pygments_lexer": "ipython3",
   "version": "3.6.5"
  }
 },
 "nbformat": 4,
 "nbformat_minor": 2
}
