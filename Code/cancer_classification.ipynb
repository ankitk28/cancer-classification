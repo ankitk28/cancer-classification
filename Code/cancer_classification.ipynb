{
 "cells": [
  {
   "cell_type": "code",
   "execution_count": 73,
   "metadata": {},
   "outputs": [],
   "source": [
    "import numpy as np\n",
    "import pandas as pd\n",
    "import os\n",
    "import argparse\n",
    "from tqdm import tqdm\n",
    "import logging\n",
    "\n",
    "from sklearn.preprocessing import StandardScaler\n",
    "from sklearn.model_selection import train_test_split, cross_val_score\n",
    "\n",
    "from sklearn.feature_selection import mutual_info_classif, f_classif\n",
    "from sklearn.feature_selection import SelectKBest, SelectPercentile, SelectFromModel\n",
    "\n",
    "from sklearn.neighbors import KNeighborsClassifier\n",
    "from sklearn import svm\n",
    "from sklearn.naive_bayes import GaussianNB\n",
    "from sklearn.ensemble import RandomForestClassifier\n",
    "from sklearn.linear_model import LogisticRegression\n",
    "\n",
    "from sklearn import metrics\n",
    "\n",
    "logging.basicConfig(level = logging.INFO)"
   ]
  },
  {
   "cell_type": "code",
   "execution_count": 217,
   "metadata": {},
   "outputs": [],
   "source": [
    "class Dataset:\n",
    "    def __init__(self, data_dir, dataset_name):\n",
    "        \n",
    "        self.path = os.path.join(data_dir, dataset_name)\n",
    "        self.dataset_name = dataset_name\n",
    "        \n",
    "        if dataset_name is 'colon':\n",
    "            self.gene_expression_values_file = \"gene_values.txt\"\n",
    "            self.labels_file = \"labels_for_each_tissue.txt\"\n",
    "        \n",
    "        elif dataset_name is 'leukemia':\n",
    "            self.scale_file = 'rescale_factors.txt'\n",
    "            self.samples_file = \"table_ALL_AML_samples.txt\"\n",
    "            self.train_file = \"train.tsv\"\n",
    "            self.test_file = \"test.tsv\"\n",
    "        \n",
    "        self.read_data()\n",
    "        self.transform_data()\n",
    "            \n",
    "    def read_data(self):\n",
    "        \n",
    "        logging.info(\"Reading Dataset %s\", self.dataset_name)\n",
    "        \n",
    "        if self.dataset_name is 'colon':\n",
    "            with open(os.path.join(self.path, self.gene_expression_values_file), 'r') as f:\n",
    "                gene_expression_values = [line.strip() for line in tqdm(f.readlines())]\n",
    "                expressions = []\n",
    "                for gene in gene_expression_values:\n",
    "                    if gene != '':\n",
    "                        expression_values = np.array(gene.split(\" \"))\n",
    "                        expressions.append(expression_values)\n",
    "\n",
    "            with open(os.path.join(self.path, self.labels_file), 'r') as f:\n",
    "                labels = [int(line.strip()) for line in tqdm(f.readlines())]\n",
    "                labels = np.array(labels)\n",
    "                labels[labels>0] = 1\n",
    "                labels[labels<=0] = 0\n",
    "                \n",
    "            self.features = np.array(expressions, dtype=np.float64).T\n",
    "            self.target = labels\n",
    "            self.split_data(split_perc = 0.2)\n",
    "            \n",
    "        elif self.dataset_name is 'leukemia':\n",
    "            with open(os.path.join(self.path, self.scale_file), \"r\") as f:\n",
    "                x = f.readlines()\n",
    "                x = [y.strip().split(\" \") for y in x]\n",
    "                scale_factors = [float(y[1]) for y in x]\n",
    "                train_scale_factors = np.array(scale_factors[:38])\n",
    "                test_scale_factors = np.array(scale_factors[38:])\n",
    "                      \n",
    "            with open(os.path.join(self.path, self.samples_file), \"r\") as f:\n",
    "                x = f.readlines()\n",
    "                labels = []\n",
    "                for y in x:\n",
    "                    yx = y.split(\"\\t\")\n",
    "                    labels.append((1 if yx[2].strip() == 'ALL' else 0))\n",
    "                self.Y_train = labels[:38]\n",
    "                self.Y_test = labels[38:]\n",
    "                      \n",
    "            train_data = pd.read_csv(os.path.join(self.path, self.train_file), sep=\"\\t\")\n",
    "            train_data = np.array(train_data).T\n",
    "            self.X_train = train_data*train_scale_factors[:, np.newaxis]\n",
    "               \n",
    "            test_data = pd.read_csv(os.path.join(self.path, self.test_file), sep=\"\\t\")\n",
    "            test_data = np.array(test_data).T\n",
    "            self.X_test = test_data*test_scale_factors[:, np.newaxis]\n",
    "            \n",
    "            self.features = np.vstack((self.X_train, self.X_test))\n",
    "            self.target = np.append(self.Y_train, self.Y_test)\n",
    "            \n",
    "        logging.info(\"Reading data completed. The train dataset size is %s\", self.X_train.shape)\n",
    "        \n",
    "    def split_data(self, split_perc = 0.2):\n",
    "        \n",
    "        logging.info(\"Splitting the dataset into train and test sets with a split percentage of %s\", split_perc)\n",
    "        \n",
    "        self.X_train, self.X_test, self.Y_train, self.Y_test = \\\n",
    "        train_test_split(self.features, self.target, test_size = split_perc, random_state = 1405)\n",
    "        \n",
    "        logging.info(\"Splitting is completed. The dimensions of the train dataset are %s\", self.X_train.shape)\n",
    "        \n",
    "    def transform_data(self):\n",
    "        \n",
    "        logging.info(\"Standardizing the data to have to zero mean and one variance\")\n",
    "        \n",
    "        standard_scaler = StandardScaler()\n",
    "        standard_scaler.fit(self.X_train)\n",
    "        self.X_train = standard_scaler.transform(self.X_train)\n",
    "        self.X_test = standard_scaler.transform(self.X_test)\n",
    "        \n",
    "        logging.info(\"Standardizing is completed.\")"
   ]
  },
  {
   "cell_type": "code",
   "execution_count": 218,
   "metadata": {},
   "outputs": [
    {
     "name": "stderr",
     "output_type": "stream",
     "text": [
      "INFO:root:Reading Dataset colon\n",
      "100%|██████████| 3998/3998 [00:00<00:00, 231575.26it/s]\n",
      "100%|██████████| 62/62 [00:00<00:00, 364211.27it/s]\n",
      "INFO:root:Splitting the dataset into train and test sets with a split percentage of 0.2\n",
      "INFO:root:Splitting is completed. The dimensions of the train dataset are (49, 2000)\n",
      "INFO:root:Reading data completed. The train dataset size is (49, 2000)\n",
      "INFO:root:Standardizing the data to have to zero mean and one variance\n",
      "INFO:root:Standardizing is completed.\n"
     ]
    }
   ],
   "source": [
    "colon_data = Dataset(\"/home/avinash/UIUC/CS466/cancer-classification/Data\", 'colon')"
   ]
  },
  {
   "cell_type": "code",
   "execution_count": 219,
   "metadata": {},
   "outputs": [
    {
     "name": "stderr",
     "output_type": "stream",
     "text": [
      "INFO:root:Reading Dataset leukemia\n",
      "INFO:root:Reading data completed. The train dataset size is (38, 7129)\n",
      "INFO:root:Standardizing the data to have to zero mean and one variance\n",
      "INFO:root:Standardizing is completed.\n"
     ]
    }
   ],
   "source": [
    "leukemia_data = Dataset(\"/home/avinash/UIUC/CS466/cancer-classification/Data\", \"leukemia\")"
   ]
  },
  {
   "cell_type": "code",
   "execution_count": 186,
   "metadata": {},
   "outputs": [],
   "source": [
    "class ModelUtilities:\n",
    "    def __init__(self, X_train, Y_train, X_test, Y_test):\n",
    "        self.X_train = X_train\n",
    "        self.Y_train = Y_train\n",
    "        self.X_test = X_test\n",
    "        self.Y_test = Y_test\n",
    "        \n",
    "    def get_important_features(self, method, number_of_features):\n",
    "        if method is 'select_k_best':\n",
    "            best_indices = SelectKBest(k=number_of_features, score_func=f_classif).fit(self.X_train, self.Y_train).get_support(indices=True)\n",
    "            return best_indices\n",
    "    \n",
    "    def test_for_all(data):\n",
    "        from collections import defaultdict\n",
    "        scores = defaultdict(list)\n",
    "        for nf in range(5, 51):\n",
    "            for k in range(1, 21):\n",
    "                best_features = self.get_important_features(self.X_train, self.Y_train, 'select_k_best', nf)\n",
    "                tr_acc, test_acc = self.uild_nearest_neighbor_model(self, k, best_features)\n",
    "                scores[nf].append(test_acc)\n",
    "        return scores"
   ]
  },
  {
   "cell_type": "code",
   "execution_count": 187,
   "metadata": {},
   "outputs": [],
   "source": [
    "def build_nearest_neighbor_model(X_train, Y_train, k = 5, feature_indices = None):\n",
    "    if feature_indices is not None:\n",
    "        X_train = X_train[:, feature_indices]\n",
    "\n",
    "    model = KNeighborsClassifier(n_neighbors=k)\n",
    "    model.fit(X_train, Y_train)\n",
    "\n",
    "    return model"
   ]
  },
  {
   "cell_type": "code",
   "execution_count": 188,
   "metadata": {},
   "outputs": [],
   "source": [
    "def build_svm_model(X_train, Y_train, feature_indices = None, kernel = 'linear'):\n",
    "    if feature_indices is not None:\n",
    "        X_train = X_train[:, feature_indices]\n",
    "        \n",
    "    model = svm.SVC(C=2.0, kernel=kernel, gamma=0.001, random_state=1405)\n",
    "    model.fit(X_train, Y_train)\n",
    "    \n",
    "    return model"
   ]
  },
  {
   "cell_type": "code",
   "execution_count": 189,
   "metadata": {},
   "outputs": [],
   "source": [
    "def build_naive_bayes_model(X_train, Y_train, feature_indices = None):\n",
    "    if feature_indices is not None:\n",
    "        X_train = X_train[:, feature_indices]\n",
    "        \n",
    "    model = GaussianNB()\n",
    "    model.fit(X_train, Y_train)\n",
    "    \n",
    "    return model"
   ]
  },
  {
   "cell_type": "code",
   "execution_count": 190,
   "metadata": {},
   "outputs": [],
   "source": [
    "def build_random_forest_model(X_train, Y_train, feature_indices = None, n_trees = 50):\n",
    "    if feature_indices is not None:\n",
    "        X_train = X_train[:, feature_indices]\n",
    "        \n",
    "    model = RandomForestClassifier(n_estimators=n_trees)\n",
    "    model.fit(X_train, Y_train)\n",
    "    \n",
    "    return model"
   ]
  },
  {
   "cell_type": "code",
   "execution_count": 191,
   "metadata": {},
   "outputs": [],
   "source": [
    "def build_logistic_regression_model(X_train, Y_train, feature_indices = None):\n",
    "    if feature_indices is not None:\n",
    "        X_train = X_train[:, feature_indices]\n",
    "        \n",
    "    model = LogisticRegression(random_state=1405, solver='lbfgs')\n",
    "    model.fit(X_train, Y_train)\n",
    "    \n",
    "    return model"
   ]
  },
  {
   "cell_type": "code",
   "execution_count": 192,
   "metadata": {},
   "outputs": [],
   "source": [
    "def calculate_accuracies(X_train, Y_train, X_test, Y_test, model, feature_indices = None):\n",
    "    if feature_indices is not None:\n",
    "        X_train = X_train[:, feature_indices]\n",
    "        X_test = X_test[:, feature_indices]\n",
    "\n",
    "    train_pred_y = model.predict(X_train)\n",
    "    test_pred_y = model.predict(X_test)\n",
    "\n",
    "    train_accuracy = metrics.accuracy_score(y_pred=train_pred_y, y_true=Y_train)\n",
    "    test_accuracy = metrics.accuracy_score(y_pred=test_pred_y, y_true=Y_test)\n",
    "\n",
    "    return train_accuracy, test_accuracy"
   ]
  },
  {
   "cell_type": "code",
   "execution_count": 193,
   "metadata": {},
   "outputs": [],
   "source": [
    "def create_knn_ensemble(X_train, Y_train, ks = [3, 5, 7], feature_selections = ['select_k_best', 'select_k_best']):\n",
    "    models = []\n",
    "    for k in ks:\n",
    "        model = build_nearest_neighbor_model(X_train, Y_train, k, feature_indices)\n",
    "        models.append(model)\n",
    "    return models"
   ]
  },
  {
   "cell_type": "code",
   "execution_count": 225,
   "metadata": {},
   "outputs": [
    {
     "data": {
      "text/plain": [
       "(0.8947368421052632, 0.7352941176470589)"
      ]
     },
     "execution_count": 225,
     "metadata": {},
     "output_type": "execute_result"
    }
   ],
   "source": [
    "model = build_nearest_neighbor_model(leukemia_data.X_train, leukemia_data.Y_train)\n",
    "calculate_accuracies(leukemia_data.X_train, leukemia_data.Y_train, leukemia_data.X_test, leukemia_data.Y_test, model)"
   ]
  },
  {
   "cell_type": "code",
   "execution_count": 226,
   "metadata": {},
   "outputs": [
    {
     "data": {
      "text/plain": [
       "array([0.86666667, 0.86666667, 1.        , 0.71428571, 0.71428571])"
      ]
     },
     "execution_count": 226,
     "metadata": {},
     "output_type": "execute_result"
    }
   ],
   "source": [
    "cross_val_score(X=leukemia_data.features, estimator=model, cv=5, y=leukemia_data.target)"
   ]
  },
  {
   "cell_type": "code",
   "execution_count": null,
   "metadata": {},
   "outputs": [],
   "source": []
  }
 ],
 "metadata": {
  "kernelspec": {
   "display_name": "Python 3",
   "language": "python",
   "name": "python3"
  },
  "language_info": {
   "codemirror_mode": {
    "name": "ipython",
    "version": 3
   },
   "file_extension": ".py",
   "mimetype": "text/x-python",
   "name": "python",
   "nbconvert_exporter": "python",
   "pygments_lexer": "ipython3",
   "version": "3.6.5"
  }
 },
 "nbformat": 4,
 "nbformat_minor": 2
}
