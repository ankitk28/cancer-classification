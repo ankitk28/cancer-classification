{
 "cells": [
  {
   "cell_type": "code",
   "execution_count": 80,
   "metadata": {},
   "outputs": [],
   "source": [
    "import numpy as np\n",
    "import pandas as pd\n",
    "import os\n",
    "import argparse\n",
    "from tqdm import tqdm\n",
    "import logging\n",
    "\n",
    "from sklearn.preprocessing import StandardScaler\n",
    "from sklearn.model_selection import train_test_split\n",
    "from sklearn.feature_selection import mutual_info_classif, f_classif\n",
    "from sklearn.feature_selection import SelectKBest, SelectPercentile\n",
    "from sklearn.neighbors import KNeighborsClassifier\n",
    "from sklearn import metrics\n",
    "\n",
    "logging.basicConfig(level = logging.INFO)"
   ]
  },
  {
   "cell_type": "code",
   "execution_count": 73,
   "metadata": {},
   "outputs": [],
   "source": [
    "class Dataset:\n",
    "    def __init__(self, data_dir, dataset_name):\n",
    "        \n",
    "        self.path = os.path.join(data_dir, dataset_name)\n",
    "        self.dataset_name = dataset_name\n",
    "        \n",
    "        if dataset_name is 'colon':\n",
    "            self.gene_expression_values_file = \"gene_values.txt\"\n",
    "            self.labels_file = \"labels_for_each_tissue.txt\"\n",
    "        \n",
    "        self.read_data()\n",
    "        self.split_data(split_perc = 0.2)\n",
    "        self.transform_data()\n",
    "            \n",
    "    def read_data(self):\n",
    "        \n",
    "        logging.info(\"Reading Dataset %s\", self.dataset_name)\n",
    "        \n",
    "        if self.dataset_name is 'colon':\n",
    "            with open(os.path.join(self.path, self.gene_expression_values_file), 'r') as f:\n",
    "                gene_expression_values = [line.strip() for line in tqdm(f.readlines())]\n",
    "                expressions = []\n",
    "                for gene in gene_expression_values:\n",
    "                    if gene != '':\n",
    "                        expression_values = np.array(gene.split(\" \"))\n",
    "                        expressions.append(expression_values)\n",
    "\n",
    "            with open(os.path.join(self.path, self.labels_file), 'r') as f:\n",
    "                labels = [int(line.strip()) for line in tqdm(f.readlines())]\n",
    "                labels = np.array(labels)\n",
    "                labels[labels>0] = 1\n",
    "                labels[labels<=0] = 0\n",
    "                \n",
    "            self.features = np.array(expressions, dtype=np.float64).T\n",
    "            self.target = labels\n",
    "            \n",
    "        logging.info(\"Reading data completed. The dataset size is %s\", self.features.shape)\n",
    "        \n",
    "    def split_data(self, split_perc = 0.2):\n",
    "        \n",
    "        logging.info(\"Splitting the dataset into train and test sets with a split percentage of %s\", split_perc)\n",
    "        \n",
    "        self.X_train, self.X_test, self.Y_train, self.Y_test = \\\n",
    "        train_test_split(self.features, self.target, test_size = split_perc, random_state = 1405)\n",
    "        \n",
    "        logging.info(\"Splitting is completed. The dimensions of the train dataset are %s\", self.X_train.shape)\n",
    "        \n",
    "    def transform_data(self):\n",
    "        \n",
    "        logging.info(\"Standardizing the data to have to zero mean and one variance\")\n",
    "        \n",
    "        standard_scaler = StandardScaler()\n",
    "        standard_scaler.fit(self.X_train)\n",
    "        self.X_train = standard_scaler.transform(self.X_train)\n",
    "        self.X_test = standard_scaler.transform(self.X_test)\n",
    "        \n",
    "        logging.info(\"Standardizing is completed.\")"
   ]
  },
  {
   "cell_type": "code",
   "execution_count": 74,
   "metadata": {},
   "outputs": [
    {
     "name": "stderr",
     "output_type": "stream",
     "text": [
      "INFO:root:Reading Dataset colon\n",
      "100%|██████████| 3998/3998 [00:00<00:00, 189956.92it/s]\n",
      "100%|██████████| 62/62 [00:00<00:00, 274890.96it/s]\n",
      "INFO:root:Reading data completed. The dataset size is (62, 2000)\n",
      "INFO:root:Splitting the dataset into train and test sets with a split percentage of 0.2\n",
      "INFO:root:Splitting is completed. The dimensions of the train dataset are (49, 2000)\n",
      "INFO:root:Standardizing the data to have to zero mean and one variance\n",
      "INFO:root:Standardizing is completed.\n"
     ]
    }
   ],
   "source": [
    "colon_data = Dataset(\"/home/avinash/UIUC/CS466/cancer-classification/Data\", 'colon')"
   ]
  },
  {
   "cell_type": "code",
   "execution_count": 138,
   "metadata": {},
   "outputs": [
    {
     "data": {
      "text/plain": [
       "2"
      ]
     },
     "execution_count": 138,
     "metadata": {},
     "output_type": "execute_result"
    }
   ],
   "source": [
    "colon_data.Y_test.sum()"
   ]
  },
  {
   "cell_type": "code",
   "execution_count": 76,
   "metadata": {},
   "outputs": [],
   "source": [
    "def get_important_features(X_train, Y_train, method, number_of_features):\n",
    "    if method is 'select_k_best':\n",
    "        best_indices = SelectKBest(k=number_of_features, score_func=f_classif).fit(X_train, Y_train).get_support(indices=True)\n",
    "        return best_indices"
   ]
  },
  {
   "cell_type": "code",
   "execution_count": 77,
   "metadata": {},
   "outputs": [],
   "source": [
    "best_features = get_important_features(colon_data.X_train, colon_data.Y_train, 'select_k_best', 20)"
   ]
  },
  {
   "cell_type": "code",
   "execution_count": 107,
   "metadata": {},
   "outputs": [],
   "source": [
    "def build_nearest_neighbor_model(data, k = 5, feature_indices = None):\n",
    "    train_x = data.X_train\n",
    "    train_y = data.Y_train\n",
    "    test_x = data.X_test\n",
    "    test_y = data.Y_test\n",
    "    \n",
    "    if feature_indices is not None:\n",
    "        train_x = train_x[:, feature_indices]\n",
    "        test_x = test_x[:, feature_indices]\n",
    "        \n",
    "    model = KNeighborsClassifier(n_neighbors=k)\n",
    "    model.fit(train_x, train_y)\n",
    "    \n",
    "    train_pred_y = model.predict(train_x)\n",
    "    test_pred_y = model.predict(test_x)\n",
    "    \n",
    "    train_accuracy = metrics.accuracy_score(y_pred=train_pred_y, y_true=train_y)\n",
    "    test_accuracy = metrics.accuracy_score(y_pred=test_pred_y, y_true=test_y)\n",
    "    return train_accuracy, test_accuracy"
   ]
  },
  {
   "cell_type": "code",
   "execution_count": 132,
   "metadata": {},
   "outputs": [],
   "source": [
    "def test_for_all(data):\n",
    "    from collections import defaultdict\n",
    "    scores = defaultdict(list)\n",
    "    for nf in range(5, 51):\n",
    "        for k in range(1, 21):\n",
    "            best_features = get_important_features(data.X_train, data.Y_train, 'select_k_best', nf)\n",
    "            tr_acc, test_acc = build_nearest_neighbor_model(data, k, best_features)\n",
    "            scores[nf].append(test_acc)\n",
    "    return scores"
   ]
  },
  {
   "cell_type": "code",
   "execution_count": 133,
   "metadata": {},
   "outputs": [],
   "source": [
    "scores = test_for_all(colon_data)"
   ]
  },
  {
   "cell_type": "code",
   "execution_count": 134,
   "metadata": {},
   "outputs": [],
   "source": [
    "import matplotlib.pyplot as plt"
   ]
  },
  {
   "cell_type": "code",
   "execution_count": 135,
   "metadata": {},
   "outputs": [
    {
     "data": {
      "text/plain": [
       "([<matplotlib.axis.XTick at 0x7fb696f5e438>,\n",
       "  <matplotlib.axis.XTick at 0x7fb696fc9a90>,\n",
       "  <matplotlib.axis.XTick at 0x7fb696fc9be0>,\n",
       "  <matplotlib.axis.XTick at 0x7fb696f72940>,\n",
       "  <matplotlib.axis.XTick at 0x7fb696f72e10>,\n",
       "  <matplotlib.axis.XTick at 0x7fb696f79320>,\n",
       "  <matplotlib.axis.XTick at 0x7fb696f79828>,\n",
       "  <matplotlib.axis.XTick at 0x7fb696f79d30>,\n",
       "  <matplotlib.axis.XTick at 0x7fb696f81278>,\n",
       "  <matplotlib.axis.XTick at 0x7fb696f81780>],\n",
       " <a list of 10 Text xticklabel objects>)"
      ]
     },
     "execution_count": 135,
     "metadata": {},
     "output_type": "execute_result"
    },
    {
     "data": {
      "image/png": "[encoded data removed]",
      "text/plain": [
       "<Figure size 432x288 with 1 Axes>"
      ]
     },
     "metadata": {},
     "output_type": "display_data"
    }
   ],
   "source": [
    "plt.plot(range(1, 21), scores[20])\n",
    "plt.title(\"Test accuracy vs n-neighbors for top 20 genes\")\n",
    "plt.xlabel(\"Number of neighbors\")\n",
    "plt.ylabel(\"Test Accuracy\")\n",
    "plt.xticks(range(1, 21, 2))"
   ]
  },
  {
   "cell_type": "code",
   "execution_count": 136,
   "metadata": {},
   "outputs": [
    {
     "data": {
      "text/plain": [
       "([<matplotlib.axis.XTick at 0x7fb696f34710>,\n",
       "  <matplotlib.axis.XTick at 0x7fb696f34048>,\n",
       "  <matplotlib.axis.XTick at 0x7fb696f25d30>,\n",
       "  <matplotlib.axis.XTick at 0x7fb696ed2978>,\n",
       "  <matplotlib.axis.XTick at 0x7fb696ed2a20>,\n",
       "  <matplotlib.axis.XTick at 0x7fb696ed9208>,\n",
       "  <matplotlib.axis.XTick at 0x7fb696ed9710>,\n",
       "  <matplotlib.axis.XTick at 0x7fb696ed9c18>,\n",
       "  <matplotlib.axis.XTick at 0x7fb696ee2198>,\n",
       "  <matplotlib.axis.XTick at 0x7fb696ee2668>],\n",
       " <a list of 10 Text xticklabel objects>)"
      ]
     },
     "execution_count": 136,
     "metadata": {},
     "output_type": "execute_result"
    },
    {
     "data": {
      "image/png": "[encoded data removed]",
      "text/plain": [
       "<Figure size 432x288 with 1 Axes>"
      ]
     },
     "metadata": {},
     "output_type": "display_data"
    }
   ],
   "source": [
    "plt.plot(range(1, 21), scores[50])\n",
    "plt.title(\"Test accuracy vs n-neighbors for top 50 genes\")\n",
    "plt.xlabel(\"Number of neighbors\")\n",
    "plt.ylabel(\"Test Accuracy\")\n",
    "plt.xticks(range(1, 21, 2))"
   ]
  },
  {
   "cell_type": "code",
   "execution_count": null,
   "metadata": {},
   "outputs": [],
   "source": []
  }
 ],
 "metadata": {
  "kernelspec": {
   "display_name": "Python 3",
   "language": "python",
   "name": "python3"
  },
  "language_info": {
   "codemirror_mode": {
    "name": "ipython",
    "version": 3
   },
   "file_extension": ".py",
   "mimetype": "text/x-python",
   "name": "python",
   "nbconvert_exporter": "python",
   "pygments_lexer": "ipython3",
   "version": "3.6.5"
  }
 },
 "nbformat": 4,
 "nbformat_minor": 2
}
